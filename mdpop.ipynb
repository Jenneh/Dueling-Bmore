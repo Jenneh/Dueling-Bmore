{
 "cells": [
  {
   "cell_type": "code",
   "execution_count": 164,
   "id": "e26e60e2",
   "metadata": {},
   "outputs": [],
   "source": [
    "import numpy as np\n",
    "from astropy.table import Table\n",
    "from astronify.series import SoniSeries"
   ]
  },
  {
   "cell_type": "code",
   "execution_count": 165,
   "id": "374045c2",
   "metadata": {},
   "outputs": [
    {
     "name": "stdout",
     "output_type": "stream",
     "text": [
      "[ 13503  26514  46555  62738  80620 102313 169054 212418 267354 332313\n",
      " 434439 508957 558485 733826 804874 859100 949708 939024 905759 786775\n",
      " 736014 651154 620961 585708]\n",
      "[1790 1800 1810 1820 1830 1840 1850 1860 1870 1880 1890 1900 1910 1920\n",
      " 1930 1940 1950 1960 1970 1980 1990 2000 2010 2020]\n",
      "[ 25434  32516  29255  33463  40250  32066  41592  54135  63387  83336\n",
      "  72909  90755 122349  74817 124565 155825 270273 492428 621077 655615\n",
      " 692134 754292 805029 826017]\n",
      "[0 0 0 0 0 0 0 0 0 0 0 0 0 0 0 0 0 0 0 0 0 0 0 0]\n"
     ]
    }
   ],
   "source": [
    "baltimore_city=np.array([585708,620961,651154,736014,786775,905759,939024,949708,859100,\n",
    "804874,733826,558485,508957,434439,332313,267354,212418,169054,102313,80620,62738,46555,26514,13503,])\n",
    "\n",
    "year=np.array([2020,2010,2000,1990,1980,1970,1960,1950,1940,1930,1920,1910,1900,1890,\n",
    "               1880,1870,1860,1850,1840,1830,1820,1810,1800,1790])\n",
    "\n",
    "county=np.array([826017 ,805029,754292,692134,655615,621077,492428,270273,155825,124565,74817,122349,90755,\n",
    "                 72909,83336,63387,54135,41592,32066,40250,33463,29255,32516,25434])\n",
    "\n",
    "drum=np.array([0,0,0,0,0,0,0,0,0,0,0,0,0,0,0,0,0,0,0,0,0,0,0,0])\n",
    "baltimore_city=np.flip(baltimore_city)\n",
    "year=np.flip(year)\n",
    "county=np.flip(county)\n",
    "\n",
    "print(baltimore_city)\n",
    "print(year)\n",
    "print(county)\n",
    "print(drum)"
   ]
  },
  {
   "cell_type": "code",
   "execution_count": 166,
   "id": "5dc06b38",
   "metadata": {},
   "outputs": [
    {
     "name": "stdout",
     "output_type": "stream",
     "text": [
      "949708\n",
      "13503\n"
     ]
    }
   ],
   "source": [
    "popmax=np.max([baltimore_city,county])\n",
    "print(popmax)\n",
    "popmin=np.min([baltimore_city,county])\n",
    "print(popmin)\n"
   ]
  },
  {
   "cell_type": "code",
   "execution_count": 167,
   "id": "4cf97c02",
   "metadata": {},
   "outputs": [],
   "source": [
    "t=Table([year,baltimore_city,county,baltimore_city/popmax,county/popmax,drum],\n",
    "        names=('year','bmore population', 'county population','bmorenorm','countynorm','drum'))"
   ]
  },
  {
   "cell_type": "code",
   "execution_count": 168,
   "id": "46b733ff",
   "metadata": {},
   "outputs": [
    {
     "data": {
      "text/html": [
       "<div><i>Table length=24</i>\n",
       "<table id=\"table140298599967376\" class=\"table-striped table-bordered table-condensed\">\n",
       "<thead><tr><th>year</th><th>bmore population</th><th>county population</th><th>bmorenorm</th><th>countynorm</th><th>drum</th></tr></thead>\n",
       "<thead><tr><th>int64</th><th>int64</th><th>int64</th><th>float64</th><th>float64</th><th>int64</th></tr></thead>\n",
       "<tr><td>1790</td><td>13503</td><td>25434</td><td>0.014218054391455058</td><td>0.026780863170574536</td><td>0</td></tr>\n",
       "<tr><td>1800</td><td>26514</td><td>32516</td><td>0.027918054812637146</td><td>0.0342378920678777</td><td>0</td></tr>\n",
       "<tr><td>1810</td><td>46555</td><td>29255</td><td>0.04902033045946754</td><td>0.030804205081983095</td><td>0</td></tr>\n",
       "<tr><td>1820</td><td>62738</td><td>33463</td><td>0.06606030485159649</td><td>0.03523504066513076</td><td>0</td></tr>\n",
       "<tr><td>1830</td><td>80620</td><td>40250</td><td>0.0848892501695258</td><td>0.04238144777131497</td><td>0</td></tr>\n",
       "<tr><td>1840</td><td>102313</td><td>32066</td><td>0.10773100784662233</td><td>0.03376406221701828</td><td>0</td></tr>\n",
       "<tr><td>...</td><td>...</td><td>...</td><td>...</td><td>...</td><td>...</td></tr>\n",
       "<tr><td>1960</td><td>939024</td><td>492428</td><td>0.9887502263853732</td><td>0.5185046351088967</td><td>0</td></tr>\n",
       "<tr><td>1970</td><td>905759</td><td>621077</td><td>0.9537236708546206</td><td>0.6539662717382606</td><td>0</td></tr>\n",
       "<tr><td>1980</td><td>786775</td><td>655615</td><td>0.8284388464664929</td><td>0.6903332392693333</td><td>0</td></tr>\n",
       "<tr><td>1990</td><td>736014</td><td>692134</td><td>0.7749897863343259</td><td>0.7287861110994116</td><td>0</td></tr>\n",
       "<tr><td>2000</td><td>651154</td><td>754292</td><td>0.6856360060144803</td><td>0.7942357019210116</td><td>0</td></tr>\n",
       "<tr><td>2010</td><td>620961</td><td>805029</td><td>0.6538441289322613</td><td>0.8476594911277993</td><td>0</td></tr>\n",
       "<tr><td>2020</td><td>585708</td><td>826017</td><td>0.6167242984159341</td><td>0.8697589153718828</td><td>0</td></tr>\n",
       "</table></div>"
      ],
      "text/plain": [
       "<Table length=24>\n",
       " year bmore population county population ...      countynorm       drum\n",
       "int64      int64             int64       ...       float64        int64\n",
       "----- ---------------- ----------------- ... -------------------- -----\n",
       " 1790            13503             25434 ... 0.026780863170574536     0\n",
       " 1800            26514             32516 ...   0.0342378920678777     0\n",
       " 1810            46555             29255 ... 0.030804205081983095     0\n",
       " 1820            62738             33463 ...  0.03523504066513076     0\n",
       " 1830            80620             40250 ...  0.04238144777131497     0\n",
       " 1840           102313             32066 ...  0.03376406221701828     0\n",
       "  ...              ...               ... ...                  ...   ...\n",
       " 1960           939024            492428 ...   0.5185046351088967     0\n",
       " 1970           905759            621077 ...   0.6539662717382606     0\n",
       " 1980           786775            655615 ...   0.6903332392693333     0\n",
       " 1990           736014            692134 ...   0.7287861110994116     0\n",
       " 2000           651154            754292 ...   0.7942357019210116     0\n",
       " 2010           620961            805029 ...   0.8476594911277993     0\n",
       " 2020           585708            826017 ...   0.8697589153718828     0"
      ]
     },
     "execution_count": 168,
     "metadata": {},
     "output_type": "execute_result"
    }
   ],
   "source": [
    "t"
   ]
  },
  {
   "cell_type": "code",
   "execution_count": 169,
   "id": "a245496e",
   "metadata": {},
   "outputs": [
    {
     "name": "stdout",
     "output_type": "stream",
     "text": [
      "{'pitch_range': [100, 10000], 'center_pitch': 440, 'zero_point': 'median', 'stretch': 'linear', 'minmax_value': [0, 3798832]}\n"
     ]
    }
   ],
   "source": [
    "sonidf=SoniSeries(t,time_col='year',val_col='bmore population')\n",
    "sonidf.note_spacing=2\n",
    "sonidf.note_duration=.4\n",
    "sonidf.pitch_mapper.pitch_map_args['minmax_value']=[0,popmax*4]\n",
    "print(sonidf.pitch_mapper.pitch_map_args)\n"
   ]
  },
  {
   "cell_type": "code",
   "execution_count": 170,
   "id": "706b117d",
   "metadata": {},
   "outputs": [
    {
     "name": "stdout",
     "output_type": "stream",
     "text": [
      "Pyo warning: Portaudio input device `MacBook Pro Microphone` has fewer channels (1) than requested (2).\n",
      "Pyo warning: Portmidi warning: no midi device found!\n",
      "Portmidi closed.\n"
     ]
    }
   ],
   "source": [
    "sonidf.sonify()\n",
    "sonidf.play()"
   ]
  },
  {
   "cell_type": "code",
   "execution_count": 171,
   "id": "71f74e28",
   "metadata": {},
   "outputs": [
    {
     "name": "stdout",
     "output_type": "stream",
     "text": [
      "Pyo message: Offline Server rendering file bmore.wav dur=46.400000\n",
      "Pyo message: Offline Server rendering finished.\n"
     ]
    }
   ],
   "source": [
    "sonidf.write('bmore.wav')"
   ]
  },
  {
   "cell_type": "code",
   "execution_count": 172,
   "id": "5a532c3e",
   "metadata": {},
   "outputs": [
    {
     "name": "stdout",
     "output_type": "stream",
     "text": [
      "{'pitch_range': [100, 10000], 'center_pitch': 440, 'zero_point': 'median', 'stretch': 'linear', 'minmax_value': [0, 3798832]}\n"
     ]
    }
   ],
   "source": [
    "sonidf=SoniSeries(t,time_col='year',val_col='county population')\n",
    "sonidf.note_spacing=2\n",
    "sonidf.note_duration=.4\n",
    "#sonidf.pitch_mapper.pitch_map_args['pitch_range']=[100, 9000]\n",
    "sonidf.pitch_mapper.pitch_map_args['minmax_value']=[0,popmax*4]\n",
    "print(sonidf.pitch_mapper.pitch_map_args)"
   ]
  },
  {
   "cell_type": "code",
   "execution_count": 173,
   "id": "d75dc20c",
   "metadata": {},
   "outputs": [
    {
     "name": "stdout",
     "output_type": "stream",
     "text": [
      "Pyo warning: Portaudio input device `MacBook Pro Microphone` has fewer channels (1) than requested (2).\n",
      "Pyo warning: Portmidi warning: no midi device found!\n",
      "Portmidi closed.\n"
     ]
    }
   ],
   "source": [
    "sonidf.sonify()\n",
    "sonidf.play()\n"
   ]
  },
  {
   "cell_type": "code",
   "execution_count": 174,
   "id": "e735aaee",
   "metadata": {},
   "outputs": [
    {
     "name": "stdout",
     "output_type": "stream",
     "text": [
      "Pyo message: Offline Server rendering file county.wav dur=46.400000\n",
      "Pyo message: Offline Server rendering finished.\n"
     ]
    }
   ],
   "source": [
    "sonidf.write('county.wav')"
   ]
  },
  {
   "cell_type": "code",
   "execution_count": 175,
   "id": "d1e78b51",
   "metadata": {},
   "outputs": [],
   "source": [
    "sonidf=SoniSeries(t,time_col='year',val_col='drum')\n",
    "sonidf.note_spacing=2\n",
    "sonidf.note_duration=.2\n",
    "sonidf.pitch_mapper.pitch_map_args['pitch_range']=[100, 100]\n"
   ]
  },
  {
   "cell_type": "code",
   "execution_count": 176,
   "id": "619af28d",
   "metadata": {},
   "outputs": [
    {
     "name": "stdout",
     "output_type": "stream",
     "text": [
      "Pyo warning: Portaudio input device `MacBook Pro Microphone` has fewer channels (1) than requested (2).\n",
      "Pyo warning: Portmidi warning: no midi device found!\n",
      "Portmidi closed.\n"
     ]
    },
    {
     "name": "stderr",
     "output_type": "stream",
     "text": [
      "WARNING: InputWarning: Given center pitch is outside the pitch range, defaulting to the mean. [astronify.utils.pitch_mapping]\n"
     ]
    }
   ],
   "source": [
    "sonidf.sonify() \n",
    "sonidf.play()"
   ]
  },
  {
   "cell_type": "code",
   "execution_count": 177,
   "id": "b90fb238",
   "metadata": {},
   "outputs": [
    {
     "name": "stdout",
     "output_type": "stream",
     "text": [
      "Pyo message: Offline Server rendering file drum.wav dur=46.200000\n",
      "Pyo message: Offline Server rendering finished.\n"
     ]
    }
   ],
   "source": [
    "sonidf.write('drum.wav')"
   ]
  },
  {
   "cell_type": "code",
   "execution_count": null,
   "id": "6fa8a36b",
   "metadata": {},
   "outputs": [],
   "source": []
  },
  {
   "cell_type": "code",
   "execution_count": null,
   "id": "bb13d493",
   "metadata": {},
   "outputs": [],
   "source": []
  }
 ],
 "metadata": {
  "kernelspec": {
   "display_name": "Python 3 (ipykernel)",
   "language": "python",
   "name": "python3"
  },
  "language_info": {
   "codemirror_mode": {
    "name": "ipython",
    "version": 3
   },
   "file_extension": ".py",
   "mimetype": "text/x-python",
   "name": "python",
   "nbconvert_exporter": "python",
   "pygments_lexer": "ipython3",
   "version": "3.7.3"
  }
 },
 "nbformat": 4,
 "nbformat_minor": 5
}
